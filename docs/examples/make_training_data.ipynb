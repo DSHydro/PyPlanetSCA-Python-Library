{
 "cells": [
  {
   "cell_type": "markdown",
   "id": "3867f752-4660-46a1-b16a-a4659b50b53b",
   "metadata": {},
   "source": [
    "# Creating Training Data\n",
    "\n",
    "Follow the steps in [Creating Training Data](https://spestana.github.io/planetsca/training_data.html) to use a sample Planet image to label areas of snow and no snow. \n",
    "\n",
    "After following those steps, you will have created a geojson file (e.g. `planetsca_training_data_polygons.geojson`, or a shapefile e.g. `planetsca_training_data_polygons.shp`) which we can now use along with the sample Planet image to create a csv file of training data:"
   ]
  },
  {
   "cell_type": "code",
   "execution_count": 1,
   "id": "7cc12d57-724f-42c5-ac31-b15951c49286",
   "metadata": {},
   "outputs": [
    {
     "name": "stderr",
     "output_type": "stream",
     "text": [
      "/home/jovyan/envs/planetenv/lib/python3.9/site-packages/tqdm/auto.py:21: TqdmWarning: IProgress not found. Please update jupyter and ipywidgets. See https://ipywidgets.readthedocs.io/en/stable/user_install.html\n",
      "  from .autonotebook import tqdm as notebook_tqdm\n"
     ]
    }
   ],
   "source": [
    "import planetsca as ps"
   ]
  },
  {
   "cell_type": "code",
   "execution_count": 2,
   "id": "a2448f96-e6bb-48f9-8111-82092dc7c397",
   "metadata": {},
   "outputs": [],
   "source": [
    "# provide filepaths to geojson and sample Planet Scope image\n",
    "labeled_polygons_filepath = (\n",
    "    \"./example_training_data/planetsca_training_data_polygons.geojson\"\n",
    ")\n",
    "training_image_filepath = (\n",
    "    \"./example_training_data/20240116_170700_24_24b0_3B_AnalyticMS_SR_clip.tif\"\n",
    ")"
   ]
  },
  {
   "cell_type": "code",
   "execution_count": 3,
   "id": "c3ab281f-279c-4224-b0f7-e171cba702f7",
   "metadata": {},
   "outputs": [
    {
     "name": "stdout",
     "output_type": "stream",
     "text": [
      "Saving training data DataFrame to: ./example_training_data/example_training_data.csv\n"
     ]
    }
   ],
   "source": [
    "# create the training data, also save it to a csv file\n",
    "training_data_df = ps.train.data_training_new(\n",
    "    labeled_polygons_filepath,\n",
    "    training_image_filepath,\n",
    "    training_data_filepath=\"./example_training_data/example_training_data.csv\",\n",
    ")"
   ]
  },
  {
   "cell_type": "markdown",
   "id": "0f590f9e-fd7c-4fba-aa98-e78275daa44a",
   "metadata": {},
   "source": [
    "We can preview what the training data looks like here:"
   ]
  },
  {
   "cell_type": "code",
   "execution_count": 4,
   "id": "b217c5b8-1ddf-4c00-9d37-583da1b6b9ba",
   "metadata": {},
   "outputs": [
    {
     "data": {
      "text/html": [
       "<div>\n",
       "<style scoped>\n",
       "    .dataframe tbody tr th:only-of-type {\n",
       "        vertical-align: middle;\n",
       "    }\n",
       "\n",
       "    .dataframe tbody tr th {\n",
       "        vertical-align: top;\n",
       "    }\n",
       "\n",
       "    .dataframe thead th {\n",
       "        text-align: right;\n",
       "    }\n",
       "</style>\n",
       "<table border=\"1\" class=\"dataframe\">\n",
       "  <thead>\n",
       "    <tr style=\"text-align: right;\">\n",
       "      <th></th>\n",
       "      <th>blue</th>\n",
       "      <th>green</th>\n",
       "      <th>red</th>\n",
       "      <th>nir</th>\n",
       "      <th>label</th>\n",
       "    </tr>\n",
       "  </thead>\n",
       "  <tbody>\n",
       "    <tr>\n",
       "      <th>0</th>\n",
       "      <td>0.3814</td>\n",
       "      <td>0.3949</td>\n",
       "      <td>0.3867</td>\n",
       "      <td>0.4345</td>\n",
       "      <td>0</td>\n",
       "    </tr>\n",
       "    <tr>\n",
       "      <th>1</th>\n",
       "      <td>0.3843</td>\n",
       "      <td>0.3917</td>\n",
       "      <td>0.3815</td>\n",
       "      <td>0.4254</td>\n",
       "      <td>0</td>\n",
       "    </tr>\n",
       "    <tr>\n",
       "      <th>2</th>\n",
       "      <td>0.3790</td>\n",
       "      <td>0.3907</td>\n",
       "      <td>0.3750</td>\n",
       "      <td>0.4305</td>\n",
       "      <td>0</td>\n",
       "    </tr>\n",
       "    <tr>\n",
       "      <th>3</th>\n",
       "      <td>0.3828</td>\n",
       "      <td>0.3830</td>\n",
       "      <td>0.3826</td>\n",
       "      <td>0.4229</td>\n",
       "      <td>0</td>\n",
       "    </tr>\n",
       "    <tr>\n",
       "      <th>4</th>\n",
       "      <td>0.3821</td>\n",
       "      <td>0.3759</td>\n",
       "      <td>0.3877</td>\n",
       "      <td>0.4065</td>\n",
       "      <td>0</td>\n",
       "    </tr>\n",
       "  </tbody>\n",
       "</table>\n",
       "</div>"
      ],
      "text/plain": [
       "     blue   green     red     nir  label\n",
       "0  0.3814  0.3949  0.3867  0.4345      0\n",
       "1  0.3843  0.3917  0.3815  0.4254      0\n",
       "2  0.3790  0.3907  0.3750  0.4305      0\n",
       "3  0.3828  0.3830  0.3826  0.4229      0\n",
       "4  0.3821  0.3759  0.3877  0.4065      0"
      ]
     },
     "execution_count": 4,
     "metadata": {},
     "output_type": "execute_result"
    }
   ],
   "source": [
    "training_data_df.head()"
   ]
  },
  {
   "cell_type": "markdown",
   "id": "07e643de-b101-4211-a959-b719096c43cb",
   "metadata": {},
   "source": [
    "You're now ready to move on to train a new model and then make predictions!"
   ]
  }
 ],
 "metadata": {
  "kernelspec": {
   "display_name": "planetenv",
   "language": "python",
   "name": "planetenv"
  },
  "language_info": {
   "codemirror_mode": {
    "name": "ipython",
    "version": 3
   },
   "file_extension": ".py",
   "mimetype": "text/x-python",
   "name": "python",
   "nbconvert_exporter": "python",
   "pygments_lexer": "ipython3",
   "version": "3.9.19"
  }
 },
 "nbformat": 4,
 "nbformat_minor": 5
}
