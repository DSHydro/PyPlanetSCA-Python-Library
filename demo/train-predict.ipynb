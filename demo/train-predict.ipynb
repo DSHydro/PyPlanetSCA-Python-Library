{
 "cells": [
  {
   "cell_type": "code",
   "execution_count": null,
   "id": "137fefd0-dab4-4519-bd37-b11b9064ba76",
   "metadata": {},
   "outputs": [],
   "source": [
    "# from planetsca import data_gathering as dg\n",
    "# from planetsca import data_preparation as dp\n",
    "# from planetsca import model_training as mt\n",
    "# from planetsca import prediction_evaluation as pe\n",
    "\n",
    "import glob\n",
    "\n",
    "import matplotlib.pyplot as plt\n",
    "import xarray as xr\n",
    "\n",
    "import planetsca as ps"
   ]
  },
  {
   "cell_type": "code",
   "execution_count": null,
   "id": "70243ec5-3508-4845-be28-013a12030ead",
   "metadata": {},
   "outputs": [],
   "source": [
    "df_train = ps.data_preparation.data_training_existing(\"sample_100k.csv\")"
   ]
  },
  {
   "cell_type": "code",
   "execution_count": null,
   "id": "e2ddff4b-4507-4e63-bb50-e252650b4a06",
   "metadata": {},
   "outputs": [],
   "source": [
    "df_train.head()"
   ]
  },
  {
   "cell_type": "code",
   "execution_count": null,
   "id": "663d063a-d8e1-43e9-a9c7-d4cb3e9cecf3",
   "metadata": {},
   "outputs": [],
   "source": [
    "model_filepath = \"random_forest_20240116_binary_174K.joblib\"\n",
    "model_score_filepath = \"random_forest_20240116_binary_174K_scores.csv\""
   ]
  },
  {
   "cell_type": "code",
   "execution_count": null,
   "id": "0dce0606-32f6-4ad4-a03c-93e3d7727b77",
   "metadata": {},
   "outputs": [],
   "source": [
    "ps.model_training.train_model(\n",
    "    model_filepath,\n",
    "    model_score_filepath,\n",
    "    n_estimators=10,\n",
    "    max_depth=10,\n",
    "    max_features=4,\n",
    "    random_state=1,\n",
    "    n_splits=2,\n",
    "    n_repeats=1,\n",
    "    df_train=df_train,\n",
    ")"
   ]
  },
  {
   "cell_type": "code",
   "execution_count": null,
   "id": "9b4d6d7e-f527-48b8-9508-da32f41d5278",
   "metadata": {},
   "outputs": [],
   "source": [
    "ps_image_filepaths = glob.glob(\"demo_images*/*/PSScene/*SR_clip.tif\")"
   ]
  },
  {
   "cell_type": "code",
   "execution_count": null,
   "id": "9c25ffb3-2143-4e01-b3d3-2b131cae7b14",
   "metadata": {},
   "outputs": [],
   "source": [
    "output_dirpath = \"./demo_images/SCA/\""
   ]
  },
  {
   "cell_type": "code",
   "execution_count": null,
   "id": "776366be-b4dd-44b0-b412-a05a508178bb",
   "metadata": {},
   "outputs": [],
   "source": [
    "sca_image_paths = ps.predict.predict_sca(\n",
    "    planet_path=ps_image_filepaths,\n",
    "    model_filepath=model_filepath,\n",
    "    output_dirpath=output_dirpath,\n",
    ")"
   ]
  },
  {
   "cell_type": "code",
   "execution_count": null,
   "id": "400b6864-bdc0-45e1-9db1-642e6ee9f869",
   "metadata": {},
   "outputs": [],
   "source": [
    "ps_image_filepaths.sort()\n",
    "sca_image_paths.sort()\n",
    "\n",
    "for ps_image_filepath, sca_image_filepath in zip(ps_image_filepaths, sca_image_paths):\n",
    "    ps_image = xr.open_dataset(ps_image_filepath)\n",
    "    sca_image = xr.open_dataset(sca_image_filepath)\n",
    "\n",
    "    fig, [ax1, ax2] = plt.subplots(nrows=1, ncols=2, figsize=(10, 5), tight_layout=True)\n",
    "    ps_image.isel(band=0).band_data.plot(ax=ax1, cmap=\"Greys_r\", add_colorbar=False)\n",
    "    sca_image.isel(band=0).band_data.plot(ax=ax2, cmap=\"Greys_r\", add_colorbar=False)\n",
    "\n",
    "    ax1.set_title(ps_image_filepath.split(\"/\")[-1])\n",
    "    ax2.set_title(sca_image_filepath.split(\"/\")[-1])"
   ]
  },
  {
   "cell_type": "code",
   "execution_count": null,
   "id": "545d7dbe-9aa0-437e-bbb0-b6462beda584",
   "metadata": {},
   "outputs": [],
   "source": []
  },
  {
   "cell_type": "code",
   "execution_count": null,
   "id": "c65c76fd-5ab7-4d5e-a0fd-6c885045ef52",
   "metadata": {},
   "outputs": [],
   "source": []
  }
 ],
 "metadata": {
  "kernelspec": {
   "display_name": "planetenv",
   "language": "python",
   "name": "planetenv"
  },
  "language_info": {
   "codemirror_mode": {
    "name": "ipython",
    "version": 3
   },
   "file_extension": ".py",
   "mimetype": "text/x-python",
   "name": "python",
   "nbconvert_exporter": "python",
   "pygments_lexer": "ipython3",
   "version": "3.9.19"
  }
 },
 "nbformat": 4,
 "nbformat_minor": 5
}
