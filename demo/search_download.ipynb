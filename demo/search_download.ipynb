{
 "cells": [
  {
   "cell_type": "markdown",
   "id": "4546538a-bbfe-4ddd-a121-db773e2dd676",
   "metadata": {},
   "source": [
    "# Search and Download Demo Notebook\n",
    "\n",
    "This demo notebook walks through the steps for searching and downloading PlanetScope imagery using the planetsca library.\n",
    "\n",
    "You will need a user account with Planet, and your own [API key](https://developers.planet.com/quickstart/apis/#find-your-api-key) to use these functions."
   ]
  },
  {
   "cell_type": "code",
   "execution_count": null,
   "id": "3235db75-6bed-4c70-af0b-3a0372c78499",
   "metadata": {},
   "outputs": [],
   "source": [
    "import planetsca as ps"
   ]
  },
  {
   "cell_type": "markdown",
   "id": "b3c44513-8f2c-4baf-87e2-c1aafdc5f167",
   "metadata": {},
   "source": [
    "You will need an [API key](https://developers.planet.com/quickstart/apis/#find-your-api-key) for searching and downloading Planet imagery."
   ]
  },
  {
   "cell_type": "code",
   "execution_count": null,
   "id": "b4790b25-1b72-4b98-b912-3215123ae4f6",
   "metadata": {},
   "outputs": [],
   "source": [
    "api_key = \"\""
   ]
  },
  {
   "cell_type": "markdown",
   "id": "9c8939e5-9cc2-4fed-9adb-c44b876e45b4",
   "metadata": {},
   "source": [
    "Set up a filter to search a specific time range and region, and to avoid cloudy images:"
   ]
  },
  {
   "cell_type": "code",
   "execution_count": null,
   "id": "a9567970-258b-44b1-92de-805879b79e65",
   "metadata": {},
   "outputs": [],
   "source": [
    "# filter images acquired in a certain date range\n",
    "date_range_filter = ps.search.make_date_range_filter(\n",
    "    \"2024-01-15T00:00:00.000Z\", \"2024-01-31T00:00:00.000Z\"\n",
    ")"
   ]
  },
  {
   "cell_type": "markdown",
   "id": "64e5598f-dfc8-490d-a368-627cbf5f470d",
   "metadata": {},
   "source": [
    "There are two options for specifying a region to search: creating a \"geometry filter\" from lat and lon bounding coordinates, or creating a \"geometry filter\" from a geojson file."
   ]
  },
  {
   "cell_type": "code",
   "execution_count": null,
   "id": "a1f0a035-299a-4eb5-ba92-eea1813399d0",
   "metadata": {},
   "outputs": [],
   "source": [
    "# Example for defining an area of interest from bounds\n",
    "minLon = -105.88\n",
    "minLat = 40.51\n",
    "maxLon = -105.87\n",
    "maxLat = 40.52\n",
    "\n",
    "# make a geometry filter with these bounding coordinates\n",
    "geometry_filter = ps.search.make_geometry_filter_from_bounds(\n",
    "    [minLon, minLat, maxLon, maxLat]\n",
    ")\n",
    "\n",
    "\n",
    "# Alternatively, define area of interest from a geojson file\n",
    "# geometry_filter = ps.search.make_geometry_filter_from_geojson('my_study_area.geojson')"
   ]
  },
  {
   "cell_type": "markdown",
   "id": "59875ef5-ff8b-4a37-afd2-94b355f94766",
   "metadata": {},
   "source": [
    "Add a cloud cover percentage filter"
   ]
  },
  {
   "cell_type": "code",
   "execution_count": null,
   "id": "f94679ad-4a58-4c23-a51b-40328405d53a",
   "metadata": {},
   "outputs": [],
   "source": [
    "cloud_filter = ps.search.make_cloud_cover_filter(\n",
    "    0.05\n",
    ")  # filter any images which are more than 5% clouds"
   ]
  },
  {
   "cell_type": "markdown",
   "id": "8901d0ec-105b-47cf-a3a5-0932aa29d7fb",
   "metadata": {},
   "source": [
    "Finally, create a filter that combines our geometry, date, and cloud filters"
   ]
  },
  {
   "cell_type": "code",
   "execution_count": null,
   "id": "1e41c858-e7aa-4391-a5bb-aa5c43599c46",
   "metadata": {},
   "outputs": [],
   "source": [
    "filter = ps.search.combine_filters([date_range_filter, geometry_filter, cloud_filter])"
   ]
  },
  {
   "cell_type": "markdown",
   "id": "be6ee4e9-41b7-4aed-8f47-3b695aae0380",
   "metadata": {},
   "source": [
    "Submit our search to the Planet API. This returns a geopandas.GeoDataFrame with information about the images that match our filter criteria"
   ]
  },
  {
   "cell_type": "code",
   "execution_count": null,
   "id": "cd2f612d-7570-4a33-9c9c-9f98a9a9b724",
   "metadata": {},
   "outputs": [],
   "source": [
    "search_results_gdf = ps.search.search(api_key, filter)"
   ]
  },
  {
   "cell_type": "code",
   "execution_count": null,
   "id": "c5fd449e-e110-4421-b7e1-3a9ad831d870",
   "metadata": {},
   "outputs": [],
   "source": [
    "search_results_gdf"
   ]
  },
  {
   "cell_type": "markdown",
   "id": "bcfd8664-2257-4651-a46e-cd2ce0589ecc",
   "metadata": {},
   "source": [
    "Perhaps we'd like to exclude images that overlap our region of interest by less than 50%, we can do that with the following:"
   ]
  },
  {
   "cell_type": "code",
   "execution_count": null,
   "id": "1995e1e3-7406-4604-914a-ac29264aad29",
   "metadata": {},
   "outputs": [],
   "source": [
    "search_results_gdf.drop(\n",
    "    search_results_gdf[search_results_gdf.overlap_percentage < 50].index, inplace=True\n",
    ")"
   ]
  },
  {
   "cell_type": "code",
   "execution_count": null,
   "id": "c178d773-e8f6-4773-b124-4123bafbf596",
   "metadata": {},
   "outputs": [],
   "source": [
    "search_results_gdf"
   ]
  },
  {
   "cell_type": "markdown",
   "id": "f85e9d32-75ca-4cc1-85b5-40410a3ceffa",
   "metadata": {},
   "source": [
    "We can also save the results of this search to a csv file for later reference."
   ]
  },
  {
   "cell_type": "code",
   "execution_count": null,
   "id": "b8082655-b9aa-4df3-a308-a96db763398d",
   "metadata": {},
   "outputs": [],
   "source": [
    "search_results_gdf.to_csv(\"my_images.csv\")"
   ]
  },
  {
   "cell_type": "markdown",
   "id": "8a7e01ae-cd1e-4ce3-bb4b-8e4c5492324e",
   "metadata": {},
   "source": [
    "To submit an order to the Planet API for the images we want, we will need to grab the item IDs from one column in the search results GeoDataFrame."
   ]
  },
  {
   "cell_type": "code",
   "execution_count": null,
   "id": "32a0d97e-dc07-4a53-8d28-d549cf2d1db0",
   "metadata": {},
   "outputs": [],
   "source": [
    "id_list = search_results_gdf.id.to_list()  # get item IDs as a list\n",
    "id_list"
   ]
  },
  {
   "cell_type": "markdown",
   "id": "ff0ca87e-2829-4d2b-a615-59aaaf054923",
   "metadata": {},
   "source": [
    "Now, submit the order:"
   ]
  },
  {
   "cell_type": "code",
   "execution_count": null,
   "id": "704f7fb2-6841-42ca-95bc-006af412fb59",
   "metadata": {},
   "outputs": [],
   "source": [
    "order_url = ps.download.order(api_key, id_list, filter)"
   ]
  },
  {
   "cell_type": "markdown",
   "id": "714c2e40-4831-4078-b4bd-91ffd2ced662",
   "metadata": {},
   "source": [
    "The `order_url` returned by this function is where we'll download our images from.\n",
    "\n",
    "The download function below will try to download the images, but if they're not yet ready, it will wait 60 seconds before tyring again. It can take about 3-5 minutes for an order of about 10 images to be prepared before being available for download."
   ]
  },
  {
   "cell_type": "code",
   "execution_count": null,
   "id": "a392c04b-460c-4488-ab7a-585615c75459",
   "metadata": {},
   "outputs": [],
   "source": [
    "# specify the directory you'd like to save your downloaded images to\n",
    "out_dirpath = \"../demo_images\"\n",
    "\n",
    "ps.download.download(api_key, order_url, out_dirpath=\"../demo_images\")"
   ]
  },
  {
   "cell_type": "code",
   "execution_count": null,
   "id": "09b8ce99-8ca6-484f-8343-569e91012aed",
   "metadata": {},
   "outputs": [],
   "source": []
  }
 ],
 "metadata": {
  "kernelspec": {
   "display_name": "planetenv",
   "language": "python",
   "name": "planetenv"
  },
  "language_info": {
   "codemirror_mode": {
    "name": "ipython",
    "version": 3
   },
   "file_extension": ".py",
   "mimetype": "text/x-python",
   "name": "python",
   "nbconvert_exporter": "python",
   "pygments_lexer": "ipython3",
   "version": "3.9.19"
  }
 },
 "nbformat": 4,
 "nbformat_minor": 5
}
